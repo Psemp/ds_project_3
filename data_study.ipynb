{
 "cells": [
  {
   "cell_type": "code",
   "execution_count": 1,
   "id": "16ae74ef-a903-4d3e-bf01-c6e7a630f235",
   "metadata": {},
   "outputs": [],
   "source": [
    "import pandas as pd\n",
    "import numpy as np\n",
    "import validators\n"
   ]
  },
  {
   "cell_type": "code",
   "execution_count": 2,
   "id": "e3f6f52a-3891-43f5-a06d-9a839d2f36d6",
   "metadata": {},
   "outputs": [],
   "source": [
    "tabsv = \"data/off_dataset.tsv\"\n",
    "\n",
    "df_off = pd.read_csv(tabsv, sep=\"\\t\", dtype=\"unicode\", low_memory=False)\n"
   ]
  },
  {
   "cell_type": "code",
   "execution_count": 70,
   "id": "09b7d4c4-3509-42ef-9179-96a913f6a569",
   "metadata": {},
   "outputs": [
    {
     "data": {
      "text/plain": [
       "162"
      ]
     },
     "execution_count": 70,
     "metadata": {},
     "output_type": "execute_result"
    }
   ],
   "source": [
    "len(df_off.columns)"
   ]
  },
  {
   "cell_type": "code",
   "execution_count": 3,
   "id": "408c751b-580a-4591-96e1-00c873e228a7",
   "metadata": {},
   "outputs": [
    {
     "name": "stdout",
     "output_type": "stream",
     "text": [
      "There is 320772 products in the dataset and only 268 contain their carbon footprint\n",
      "This is not enough to draw an average\n",
      " \n"
     ]
    }
   ],
   "source": [
    "print(f\"\"\"There is {len(df_off)} products in the dataset and\\\n",
    " only {len(df_off[df_off['carbon-footprint_100g'].notna()])} contain their carbon footprint\n",
    "This is not enough to draw an average\n",
    " \"\"\")"
   ]
  },
  {
   "cell_type": "code",
   "execution_count": 4,
   "id": "2fe95105-566e-432b-a0f1-03f8b9f2eef9",
   "metadata": {},
   "outputs": [
    {
     "data": {
      "text/plain": [
       "51722"
      ]
     },
     "execution_count": 4,
     "metadata": {},
     "output_type": "execute_result"
    }
   ],
   "source": [
    "len(df_off[df_off[\"stores\"].notna()])\n"
   ]
  },
  {
   "cell_type": "markdown",
   "id": "71f91226-baf2-4840-9aff-961777f7d321",
   "metadata": {},
   "source": [
    "Among the 320722 products, only 51722 have non NaN \"store\" field. Building an application using the stores data won't be efficient in itself, but if the user of the potential application is invited to fill the store's field of a product, this could lead to interesting functionnalities"
   ]
  },
  {
   "cell_type": "code",
   "execution_count": 71,
   "id": "df429ebb-4e2f-4e5f-b32d-9f5ab0df0d74",
   "metadata": {},
   "outputs": [
    {
     "name": "stdout",
     "output_type": "stream",
     "text": [
      "236362\n",
      "236406\n"
     ]
    }
   ],
   "source": [
    "print(len(df_off[df_off[\"categories\"].isna()]))\n",
    "print(len(df_off[df_off[\"main_category\"].isna()]))\n"
   ]
  },
  {
   "cell_type": "markdown",
   "id": "5b1dca1d-82c6-49cd-a016-fcbb87d8348d",
   "metadata": {},
   "source": [
    "236300+ products have no categories\n",
    "pretty useless if a comparison must be done"
   ]
  },
  {
   "cell_type": "code",
   "execution_count": 72,
   "id": "725f9f38-5803-433a-bd5e-5e55529faee6",
   "metadata": {},
   "outputs": [
    {
     "name": "stdout",
     "output_type": "stream",
     "text": [
      "99562\n"
     ]
    }
   ],
   "source": [
    "print(len(df_off[df_off[\"nutrition_grade_fr\"].isna()]))\n"
   ]
  },
  {
   "cell_type": "markdown",
   "id": "27e2fc58-684a-4cc2-b6d3-6977aac9a425",
   "metadata": {},
   "source": [
    "99562 products have no nutriscore attached to it"
   ]
  },
  {
   "cell_type": "code",
   "execution_count": 67,
   "id": "57fe9b6c-e92d-406c-a08d-8f9300d4bbd8",
   "metadata": {},
   "outputs": [
    {
     "data": {
      "text/plain": [
       "'Suisse,France'"
      ]
     },
     "execution_count": 67,
     "metadata": {},
     "output_type": "execute_result"
    }
   ],
   "source": [
    "df_off[\"last_modified_t\"].max()"
   ]
  },
  {
   "cell_type": "code",
   "execution_count": 69,
   "id": "88917687-e003-44cf-8198-3d557b03d0a8",
   "metadata": {},
   "outputs": [
    {
     "data": {
      "text/plain": [
       "320749"
      ]
     },
     "execution_count": 69,
     "metadata": {},
     "output_type": "execute_result"
    }
   ],
   "source": [
    "df_off[\"last_modified_t\"]\n",
    "len(df_off[pd.to_numeric(df_off['last_modified_t'], errors='coerce').notnull()])\n"
   ]
  },
  {
   "cell_type": "code",
   "execution_count": 5,
   "id": "cb53e4ec-c384-4a90-9ea6-1194e9246a77",
   "metadata": {},
   "outputs": [],
   "source": [
    "# Filters\n",
    "\n",
    "def get_col_by_ending(df: pd.DataFrame, ending: str) -> list:\n",
    "    \"\"\"takes an ending and a df as parameters, returns all cols ending with parameter\"\"\"\n",
    "    \n",
    "    col_list = []\n",
    "\n",
    "    for col in df.columns:\n",
    "        if col.endswith(ending):\n",
    "            col_list.append(col)\n",
    "\n",
    "    return col_list\n",
    "\n",
    "\n",
    "\n",
    "def filter_series(series: pd.Series) -> bool:\n",
    "    \"\"\"\n",
    "    set of filter : if not url -> False, if not proper URL\n",
    "    -> False, no name -> False, no nutriscore -> False\n",
    "    if no category : False\n",
    "    \"\"\"\n",
    "    if pd.isna(series[\"url\"]):\n",
    "        return False\n",
    "    if not validators.url(series[\"url\"]):\n",
    "        return False\n",
    "    if pd.isna(series[\"product_name\"]):\n",
    "        return False\n",
    "    if pd.isna(series[\"nutrition_grade_fr\"]):\n",
    "        return False\n",
    "    if pd.isna(series[\"categories\"]) and pd.isna(series[\"main_category\"]):\n",
    "        return False\n",
    "    \n",
    "    return True\n",
    "\n",
    "\n",
    "def filter_creator(creator: str) -> bool:\n",
    "    pass\n",
    "\n",
    "\n",
    "def ecolo_rate(series: pd.Series) -> dict:\n",
    "    \"\"\"\n",
    "    returns if a products contains palm oil and/or if its labelled as bio\n",
    "    0 -> unknown , False -> No, True -> Yes\n",
    "    \"\"\"\n",
    "    ecolo_dict = {\n",
    "        \"palm_oil\": 0,\n",
    "        \"bio\": 0,\n",
    "    }\n",
    "    pass\n",
    "\n",
    "\n",
    "def aberation_cleaner(series: pd.Series, hundred_g_list: list):\n",
    "    \"\"\"if a non na col of a 100g is > 100 or < 0, returns false\"\"\"\n",
    "\n",
    "    for col in hundred_g_list:\n",
    "        if pd.notna(series[col]):\n",
    "            if float(series[col]) > 100 or float(series[col]) < 0:\n",
    "                return False\n",
    "\n",
    "\n",
    "def copy_cleaner(df: pd.DataFrame, subset: str):\n",
    "    pass\n"
   ]
  },
  {
   "cell_type": "code",
   "execution_count": 56,
   "id": "17a01b8c-0442-43b4-b83c-e3936b76bbf3",
   "metadata": {},
   "outputs": [
    {
     "name": "stdout",
     "output_type": "stream",
     "text": [
      "CPU times: user 93 µs, sys: 0 ns, total: 93 µs\n",
      "Wall time: 96.1 µs\n"
     ]
    }
   ],
   "source": [
    "%%time\n",
    "\n",
    "hundred_g_list = get_col_by_ending(df_off, \"100g\")\n"
   ]
  },
  {
   "cell_type": "code",
   "execution_count": 57,
   "id": "b8a8c341-e4c0-4708-aaa5-09254f38ee25",
   "metadata": {},
   "outputs": [
    {
     "name": "stdout",
     "output_type": "stream",
     "text": [
      "CPU times: user 87 µs, sys: 1e+03 ns, total: 88 µs\n",
      "Wall time: 91.1 µs\n"
     ]
    }
   ],
   "source": [
    "%%time\n",
    "\n",
    "sec_hundred_g_list = [col for col in df_off.columns if col.endswith(\"100g\")]\n"
   ]
  },
  {
   "cell_type": "code",
   "execution_count": 53,
   "id": "65c52dbd-3a55-47d8-a333-8f98ea4114c3",
   "metadata": {},
   "outputs": [
    {
     "data": {
      "text/plain": [
       "True"
      ]
     },
     "execution_count": 53,
     "metadata": {},
     "output_type": "execute_result"
    }
   ],
   "source": [
    "hundred_g_list == sec_hundred_g_list\n"
   ]
  },
  {
   "cell_type": "code",
   "execution_count": 7,
   "id": "1d8d63d9-ed64-4887-980c-5c0062433fe2",
   "metadata": {},
   "outputs": [
    {
     "name": "stdout",
     "output_type": "stream",
     "text": [
      "products 320772\n",
      "unique products 320750\n"
     ]
    }
   ],
   "source": [
    "print(\"products\", len(df_off))\n",
    "print(\"unique products\", len(df_off[\"code\"].unique()))\n"
   ]
  },
  {
   "cell_type": "code",
   "execution_count": 8,
   "id": "9ca239a9-2bff-4193-a188-0c5d49bd9aa8",
   "metadata": {},
   "outputs": [],
   "source": [
    "cc1 = \"Coca Cola 50Cl\"\n",
    "cc2 = \"Coca Cola 500ml\"\n",
    "cc3 = \"Coca-Cola 50 Cl\"\n",
    "cc4 = \"CocaCola 50Cl\"\n",
    "cc5 = \"Coca-Cola 500ml\"\n",
    "cc6 = \"Coca Cola .50L\"\n",
    "cc7 = \"Coca Cola0,5L\"\n",
    "cc8 = \"Coca Cola.5L\"\n",
    "cc9 = \" cocacola 50cl\"\n",
    "cc10 = \"coke cola 50cl\" #  This exemple will not work\n",
    "\n",
    "ccl = [cc1, cc2, cc3, cc4, cc5, cc6, cc7, cc8, cc9, cc10]\n"
   ]
  },
  {
   "cell_type": "code",
   "execution_count": 9,
   "id": "136c8de6-2dee-43c6-ad23-c04fe28e46f5",
   "metadata": {},
   "outputs": [],
   "source": [
    "def detect_name_copy(analyzed_name: str, original_name: str) -> bool:\n",
    "    pass\n",
    "\n",
    "def parse_data(product_name: str):\n",
    "    pass\n",
    "\n",
    "def ean_thirteen_filter(df: pd.DataFrame):\n",
    "\n",
    "    df.drop_duplicates(subset=\"code\", keep=\"first\")\n",
    "    \n",
    "    "
   ]
  },
  {
   "cell_type": "code",
   "execution_count": 10,
   "id": "28c9a9c7-ef50-42b0-bbf3-37d3b586d287",
   "metadata": {},
   "outputs": [],
   "source": [
    "converting_table_1_litre = {\n",
    "    \"l\": 1,\n",
    "    \"cl\": 100,\n",
    "    \"dl\": 10,\n",
    "    \"ml\": 1000\n",
    "}\n",
    "\n",
    "converting_table_1_gram = {\n",
    "    \"mg\": 1000,\n",
    "    \"kg\": 0.1\n",
    "}\n"
   ]
  },
  {
   "cell_type": "code",
   "execution_count": 43,
   "id": "41d156e6-7a38-4a8b-bf3e-03e0882a70c3",
   "metadata": {},
   "outputs": [],
   "source": [
    "def detect_unit(product_name: str):\n",
    "    pass\n",
    "\n",
    "def convert_unit(product_name: str, subunit: str, conversion_table: dict):\n",
    "    pass\n"
   ]
  },
  {
   "cell_type": "code",
   "execution_count": 44,
   "id": "0cf64a74-a0ab-43b8-adca-c060ee3821f1",
   "metadata": {},
   "outputs": [
    {
     "name": "stdout",
     "output_type": "stream",
     "text": [
      "CPU times: user 237 µs, sys: 1e+03 ns, total: 238 µs\n",
      "Wall time: 241 µs\n"
     ]
    }
   ],
   "source": [
    "%%time\n",
    "\n",
    "columns_list = [col for col in df_off.columns if col not in hundred_g_list]\n"
   ]
  },
  {
   "cell_type": "code",
   "execution_count": 45,
   "id": "0592f1bc-03f7-472a-b908-7b8f44fe609d",
   "metadata": {},
   "outputs": [
    {
     "name": "stdout",
     "output_type": "stream",
     "text": [
      "CPU times: user 70 µs, sys: 1 µs, total: 71 µs\n",
      "Wall time: 73.9 µs\n"
     ]
    }
   ],
   "source": [
    "%%time\n",
    "\n",
    "columns_set = list(set(df_off.columns) - set(hundred_g_list))\n"
   ]
  },
  {
   "cell_type": "code",
   "execution_count": 50,
   "id": "5fb47e3f-691a-4c58-aad6-9f9de4835842",
   "metadata": {},
   "outputs": [],
   "source": [
    "\n",
    "for col in columns_list:\n",
    "    if col not in columns_set:\n",
    "        print(\"False\")\n",
    "\n",
    "for col in columns_set:\n",
    "    if col not in columns_list:\n",
    "        print(\"False\")\n"
   ]
  },
  {
   "cell_type": "code",
   "execution_count": 42,
   "id": "1e13c99b-6b2a-4491-843f-0429fc166dba",
   "metadata": {},
   "outputs": [
    {
     "data": {
      "text/plain": [
       "['first_packaging_code_geo',\n",
       " 'ingredients_from_palm_oil_tags',\n",
       " 'allergens',\n",
       " 'states_fr',\n",
       " 'manufacturing_places_tags',\n",
       " 'nutrition_grade_uk',\n",
       " 'traces',\n",
       " 'labels_fr',\n",
       " 'purchase_places',\n",
       " 'countries',\n",
       " 'categories_tags',\n",
       " 'countries_tags',\n",
       " 'no_nutriments',\n",
       " 'ingredients_that_may_be_from_palm_oil_n',\n",
       " 'labels_tags',\n",
       " 'origins_tags',\n",
       " 'additives_tags',\n",
       " 'pnns_groups_1',\n",
       " 'brands',\n",
       " 'pnns_groups_2',\n",
       " 'brands_tags',\n",
       " 'states',\n",
       " 'origins',\n",
       " 'creator',\n",
       " 'stores',\n",
       " 'ingredients_that_may_be_from_palm_oil',\n",
       " 'traces_tags',\n",
       " 'emb_codes',\n",
       " 'categories',\n",
       " 'labels',\n",
       " 'allergens_fr',\n",
       " 'cities_tags',\n",
       " 'nutrition_grade_fr',\n",
       " 'traces_fr',\n",
       " 'created_datetime',\n",
       " 'categories_fr',\n",
       " 'last_modified_datetime',\n",
       " 'manufacturing_places',\n",
       " 'serving_size',\n",
       " 'additives_n',\n",
       " 'main_category_fr',\n",
       " 'cities',\n",
       " 'created_t',\n",
       " 'additives',\n",
       " 'generic_name',\n",
       " 'states_tags',\n",
       " 'image_url',\n",
       " 'countries_fr',\n",
       " 'packaging',\n",
       " 'main_category',\n",
       " 'packaging_tags',\n",
       " 'quantity',\n",
       " 'ingredients_from_palm_oil_n',\n",
       " 'ingredients_from_palm_oil',\n",
       " 'last_modified_t',\n",
       " 'image_small_url',\n",
       " 'product_name',\n",
       " 'code',\n",
       " 'emb_codes_tags',\n",
       " 'additives_fr',\n",
       " 'ingredients_that_may_be_from_palm_oil_tags',\n",
       " 'url',\n",
       " 'ingredients_text']"
      ]
     },
     "execution_count": 42,
     "metadata": {},
     "output_type": "execute_result"
    }
   ],
   "source": []
  },
  {
   "cell_type": "code",
   "execution_count": null,
   "id": "d883fbab-ff44-46ac-9665-1902f1ef608b",
   "metadata": {},
   "outputs": [],
   "source": []
  }
 ],
 "metadata": {
  "kernelspec": {
   "display_name": "Python 3 (ipykernel)",
   "language": "python",
   "name": "python3"
  },
  "language_info": {
   "codemirror_mode": {
    "name": "ipython",
    "version": 3
   },
   "file_extension": ".py",
   "mimetype": "text/x-python",
   "name": "python",
   "nbconvert_exporter": "python",
   "pygments_lexer": "ipython3",
   "version": "3.10.0"
  }
 },
 "nbformat": 4,
 "nbformat_minor": 5
}
