{
 "cells": [
  {
   "cell_type": "code",
   "execution_count": null,
   "id": "4a4c46d9-cbad-4e44-9cb9-c50775f693d6",
   "metadata": {},
   "outputs": [],
   "source": [
    "import pandas as pd\n",
    "import numpy as np\n",
    "\n",
    "from matplotlib import pyplot as plt\n",
    "\n",
    "plt.style.use(\"fivethirtyeight\")\n",
    "\n"
   ]
  },
  {
   "cell_type": "code",
   "execution_count": null,
   "id": "8668edba-3a39-4557-a55b-7fc93bc24e89",
   "metadata": {},
   "outputs": [],
   "source": [
    "%%time\n",
    "\n",
    "df_off = pd.read_csv(\"data/cleaned_data.csv\")\n"
   ]
  },
  {
   "cell_type": "markdown",
   "id": "c4dc0a78",
   "metadata": {},
   "source": [
    "Analyse des variables : \n"
   ]
  },
  {
   "cell_type": "markdown",
   "id": "d462af5a-2694-49f7-a7db-4902da55ee99",
   "metadata": {},
   "source": [
    "Analyse de la repartition des nutriscores :"
   ]
  },
  {
   "cell_type": "code",
   "execution_count": null,
   "id": "3fe0ff6c",
   "metadata": {},
   "outputs": [],
   "source": [
    "grades = df_off[\"nutrition_grade_fr\"].unique()\n",
    "\n",
    "amount = {}\n",
    "\n",
    "for grade in grades:\n",
    "        amount[grade] = df_off['nutrition_grade_fr'].value_counts()[grade]\n",
    "\n",
    "slices = list(amount.values())\n",
    "labels = [key.upper() for key in amount.keys()]\n",
    "\n",
    "\n",
    "fig = plt.figure(figsize=(16,8))\n",
    "\n",
    "ax = fig.add_axes([0,0,1,1])\n",
    "ax.axis('equal')\n",
    "ax.pie(slices, labels=labels, startangle=90,\n",
    "        autopct='%1.1f%%', wedgeprops={'linewidth': 2,'edgecolor': 'black'})\n",
    "\n",
    "\n",
    "plt.title(\"Répartition du nutriscore au sein du dataset\")\n",
    "plt.show()\n",
    "\n"
   ]
  },
  {
   "cell_type": "markdown",
   "id": "ec7f0213",
   "metadata": {},
   "source": []
  }
 ],
 "metadata": {
  "kernelspec": {
   "display_name": "Python 3 (ipykernel)",
   "language": "python",
   "name": "python3"
  },
  "language_info": {
   "codemirror_mode": {
    "name": "ipython",
    "version": 3
   },
   "file_extension": ".py",
   "mimetype": "text/x-python",
   "name": "python",
   "nbconvert_exporter": "python",
   "pygments_lexer": "ipython3",
   "version": "3.10.2"
  }
 },
 "nbformat": 4,
 "nbformat_minor": 5
}
